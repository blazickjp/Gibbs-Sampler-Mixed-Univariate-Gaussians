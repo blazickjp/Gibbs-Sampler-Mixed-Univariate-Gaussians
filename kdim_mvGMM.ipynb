{
 "cells": [
  {
   "cell_type": "code",
   "execution_count": null,
   "metadata": {},
   "outputs": [],
   "source": [
    "import numpy as np\n",
    "from numpy.random import binomial, normal, beta, multinomial\n",
    "import scipy.stats as st\n",
    "from scipy.stats import invgamma, norm, dirichlet, multivariate_normal, multivariate_t\n",
    "import matplotlib.pyplot as plt\n",
    "from distcan import InverseGamma\n",
    "from matplotlib.lines import Line2D\n",
    "import math\n",
    "import seaborn as sns\n",
    "import pandas as pd"
   ]
  },
  {
   "cell_type": "code",
   "execution_count": null,
   "metadata": {},
   "outputs": [],
   "source": [
    "def data_gen(mu, cov, phi, n):\n",
    "    \"\"\"\n",
    "    Generates samples from Mixture of K Multivariate Gaussian Distributions\n",
    "    \"\"\"\n",
    "    y = np.empty((n, 2))\n",
    "    z = []\n",
    "    for i in range(n):\n",
    "        ind = multinomial(1, phi)\n",
    "        for j, val in enumerate(ind):\n",
    "            if val == 1:\n",
    "                z.append(j)\n",
    "                y[i,:] = np.random.multivariate_normal(mu[j,:], cov[j,:,:])\n",
    "            else:\n",
    "                next\n",
    "    return np.array(y), z"
   ]
  },
  {
   "cell_type": "code",
   "execution_count": 167,
   "metadata": {},
   "outputs": [],
   "source": [
    "# Define parameters for K=3 Mixture of Multivariate Gaussians\n",
    "phi = [.3, .5, .2]\n",
    "mu = np.array([[3,5], [0,-2], [-4,3]])\n",
    "cov_1 = np.array([[2.0, 0.3], [0.3, 0.5]])\n",
    "cov_2 = np.array([[3.0,.4], [.4,3.0]])    \n",
    "cov_3 = np.array([[1.7,-.7], [-.7,1.7]])\n",
    "cov = np.stack((cov_1, cov_2, cov_3), axis = 0)\n"
   ]
  },
  {
   "cell_type": "code",
   "execution_count": null,
   "metadata": {},
   "outputs": [],
   "source": [
    "def collapsed_gibbs(data, a, v, K, iters = 500):\n",
    "    N = data.shape[0]\n",
    "    D = data.shape[1]\n",
    "    assert v > D-1, \"v must be greater than D-1\"\n",
    "    alpha = np.repeat(a, K)\n",
    "    z = np.random.choice(K, size = N, replace = True, p =dirichlet(alpha / K).rvs().squeeze())\n",
    "    for _ in range(iters):\n",
    "        for i in range(N):\n",
    "            # Remove x_i from data and Z\n",
    "            d2 = np.delete(data, i, axis=0)\n",
    "            z2 = np.delete(z, i, axis=0)\n",
    "            p_z = []\n",
    "            for k in range(K):\n",
    "                mu_k = np.mean(d2[z2 == k], axis=0)\n",
    "                # cov_k = np.cov(d2[z2 == k], rowvar=False)\n",
    "                n_k = np.sum(z2 == k)\n",
    "                p_z_k = (n_k + a/K) / (N + a - 1)\n",
    "                S_k = np.dot(np.transpose(d2[z2 == k] - mu_k), d2[z2 == k] - mu_k) + np.eye(D)\n",
    "                p_x_i = multivariate_t(mu_k, ((n_k+1) / (n_k *(n_k + v - D + 1)))*S_k, n_k+v - D + 1).pdf(data[i,])\n",
    "                p_z_k = p_z_k * p_x_i\n",
    "                p_z.append(p_z_k)\n",
    "            # Standardize prob vector p(z_i = k)\n",
    "            p_z = p_z / np.sum(p_z)\n",
    "            z[i] = np.random.choice(K, 1, replace=True, p = p_z)\n",
    "\n",
    "    return z\n",
    "\n"
   ]
  },
  {
   "cell_type": "code",
   "execution_count": 164,
   "metadata": {},
   "outputs": [],
   "source": [
    "def collapsed_gibbs_IGMM(data, a, v, K, iters = 500):\n",
    "    N = data.shape[0]\n",
    "    D = data.shape[1]\n",
    "    assert v > D-1, \"v must be greater than D-1\"\n",
    "    alpha = np.repeat(a, K)\n",
    "    z = np.random.choice(K, size = N, replace = True, p =dirichlet(alpha / K).rvs().squeeze())\n",
    "    df = pd.DataFrame({\"k\": z, \"p_z\": np.nan})\n",
    "    g_not = []\n",
    "    for q in range(iters):\n",
    "        for i in range(N):\n",
    "            groups = list(np.unique(z))\n",
    "            # Remove x_i from data and Z\n",
    "            d2 = np.delete(data, i, axis=0)\n",
    "            z2 = np.delete(z, i, axis=0)\n",
    "            p_z = []\n",
    "            g = []\n",
    "            for k in groups:\n",
    "                if np.sum([z2 == k]) == 0:\n",
    "                    g_not.append(k)\n",
    "                    # This is the last group so just move on\n",
    "                    continue\n",
    "                \n",
    "                mu_k = np.mean(d2[z2 == k], axis=0)\n",
    "                # cov_k = np.cov(d2[z2 == k], rowvar=False)\n",
    "                n_k = np.sum(z2 == k)\n",
    "                p_z_k = (n_k + a/K) / (N + a - 1)\n",
    "                S_k = np.dot(np.transpose(d2[z2 == k] - mu_k), d2[z2 == k] - mu_k) + np.eye(D)\n",
    "                p_x_i = multivariate_t(mu_k, ((n_k+1) / (n_k *(n_k + v - D + 1)))*S_k, n_k+v - D + 1).pdf(data[i,])\n",
    "                p_z_k = p_z_k * p_x_i\n",
    "                g.append(k)\n",
    "                p_z.append(p_z_k)\n",
    "            \n",
    "            # Now consider new component\n",
    "            p_z_k = (a / len(groups)) / (N + (a/len(groups)) - 1)\n",
    "            p_x_i = multivariate_t([0 ,0], np.eye(D), v - D + 1).pdf(data[i,])\n",
    "            p_z_k = p_z_k * p_x_i\n",
    "            g.append(k+1)\n",
    "            p_z.append(p_z_k)\n",
    "            # Standardize prob vector p(z_i = k)\n",
    "            p_z = p_z / np.sum(p_z)\n",
    "            z[i] = np.random.choice(g, 1, replace=True, p = p_z)\n",
    "        df = pd.DataFrame({\n",
    "            'z': z,\n",
    "        }).groupby(['z']).size().reset_index(name='counts')\n",
    "        \n",
    "    return z, df"
   ]
  },
  {
   "cell_type": "code",
   "execution_count": 168,
   "metadata": {},
   "outputs": [],
   "source": [
    "data, z = data_gen(mu, cov, phi, 500)\n",
    "x, y = np.mgrid[-7:7.5:.1, -7:7.5:.1]\n",
    "pos = np.dstack((x,y))\n",
    "# data = (data - np.mean(data,axis=0)) / np.std(data)"
   ]
  },
  {
   "cell_type": "code",
   "execution_count": null,
   "metadata": {},
   "outputs": [],
   "source": []
  },
  {
   "cell_type": "code",
   "execution_count": 169,
   "metadata": {},
   "outputs": [
    {
     "name": "stdout",
     "output_type": "stream",
     "text": [
      "No Data In 4\n",
      "No Data In 0\n",
      "No Data In 11\n"
     ]
    }
   ],
   "source": [
    "z_pred, df = collapsed_gibbs_IGMM(data, 5, 2, K=3, iters=20)"
   ]
  },
  {
   "cell_type": "code",
   "execution_count": 170,
   "metadata": {},
   "outputs": [
    {
     "data": {
      "text/html": [
       "<div>\n",
       "<style scoped>\n",
       "    .dataframe tbody tr th:only-of-type {\n",
       "        vertical-align: middle;\n",
       "    }\n",
       "\n",
       "    .dataframe tbody tr th {\n",
       "        vertical-align: top;\n",
       "    }\n",
       "\n",
       "    .dataframe thead th {\n",
       "        text-align: right;\n",
       "    }\n",
       "</style>\n",
       "<table border=\"1\" class=\"dataframe\">\n",
       "  <thead>\n",
       "    <tr style=\"text-align: right;\">\n",
       "      <th></th>\n",
       "      <th>z</th>\n",
       "      <th>counts</th>\n",
       "    </tr>\n",
       "  </thead>\n",
       "  <tbody>\n",
       "    <tr>\n",
       "      <th>0</th>\n",
       "      <td>1</td>\n",
       "      <td>163</td>\n",
       "    </tr>\n",
       "    <tr>\n",
       "      <th>1</th>\n",
       "      <td>2</td>\n",
       "      <td>142</td>\n",
       "    </tr>\n",
       "    <tr>\n",
       "      <th>2</th>\n",
       "      <td>3</td>\n",
       "      <td>55</td>\n",
       "    </tr>\n",
       "    <tr>\n",
       "      <th>3</th>\n",
       "      <td>5</td>\n",
       "      <td>3</td>\n",
       "    </tr>\n",
       "    <tr>\n",
       "      <th>4</th>\n",
       "      <td>6</td>\n",
       "      <td>15</td>\n",
       "    </tr>\n",
       "    <tr>\n",
       "      <th>5</th>\n",
       "      <td>7</td>\n",
       "      <td>41</td>\n",
       "    </tr>\n",
       "    <tr>\n",
       "      <th>6</th>\n",
       "      <td>8</td>\n",
       "      <td>29</td>\n",
       "    </tr>\n",
       "    <tr>\n",
       "      <th>7</th>\n",
       "      <td>9</td>\n",
       "      <td>47</td>\n",
       "    </tr>\n",
       "    <tr>\n",
       "      <th>8</th>\n",
       "      <td>10</td>\n",
       "      <td>5</td>\n",
       "    </tr>\n",
       "  </tbody>\n",
       "</table>\n",
       "</div>"
      ],
      "text/plain": [
       "    z  counts\n",
       "0   1     163\n",
       "1   2     142\n",
       "2   3      55\n",
       "3   5       3\n",
       "4   6      15\n",
       "5   7      41\n",
       "6   8      29\n",
       "7   9      47\n",
       "8  10       5"
      ]
     },
     "execution_count": 170,
     "metadata": {},
     "output_type": "execute_result"
    }
   ],
   "source": [
    "df"
   ]
  },
  {
   "cell_type": "code",
   "execution_count": null,
   "metadata": {},
   "outputs": [],
   "source": [
    "fig, ax = plt.subplots()\n",
    "cols = [\"red\", \"blue\", \"green\"]\n",
    "for i, v in enumerate(cols):\n",
    "    d2 = data[np.array(z_pred) == i,:]\n",
    "    ax.scatter(d2[:,0], d2[:,1], color=v, alpha = .6)\n",
    "    ax.contour(x,y, multivariate_normal(mu[i,:], cov[i,:,:]).pdf(pos), extend='both')\n",
    "\n",
    "\n",
    "fig.suptitle(\"K=3 Bivariate Gaussian Distributions Data\")\n",
    "ax.grid()\n",
    "fig.show()"
   ]
  },
  {
   "cell_type": "markdown",
   "metadata": {},
   "source": [
    "## Prior Distributions\n",
    "\n",
    "$$\n",
    "\\begin{align*}\n",
    "p(\\pmb{\\pi}) & \\sim Dir(\\pmb{\\alpha})\\\\\n",
    "p(\\pmb{\\mu}_j) & \\sim N(\\pmb{\\xi_j}, \\frac{\\Sigma_j}{\\tau_j})\\\\\n",
    "& \\sim \\frac{1}{\\sqrt{(2\\pi)^k \\left| \\frac{\\Sigma_j}{\\tau_j}\\right|}}\\exp^{-\\frac{1}{2}(\\pmb{\\mu}_j - \\pmb{\\xi_j})^T\\frac{\\Sigma_j}{\\tau_j}^{-1}(\\pmb{\\mu}_j - \\pmb{\\xi_j})}\\\\\n",
    "p(\\Sigma_j) & \\sim W^{-1}(m_j, \\pmb{\\Psi_j})\\\\\n",
    "& \\sim \\frac{\\left|\\pmb{\\Psi_j}\\right|^{\\frac{m_j}{2}}}{2^{\\frac{m_jp}{2}}\\Gamma\\left(\\frac{m_j}{2}\\right)}\\left|\\Sigma_j\\right|^{-\\frac{(m_j+p+1)}{2}}\\exp^{-\\frac{1}{2}}tr\\left(\\pmb{\\Psi}\\Sigma_j^{-1}\\right)\n",
    "\\end{align*}\n",
    "$$"
   ]
  },
  {
   "cell_type": "markdown",
   "metadata": {},
   "source": [
    "## Complete Conditional for $p(\\pmb{\\mu})$\n",
    "\n",
    "$$\n",
    "\\begin{align*}\n",
    "p(\\theta|x,z) & \\propto p(x, z| \\theta)p(\\pmb{\\pi})\\prod_{j=1}^k\\left[p(\\pmb{\\mu_j})p(\\Sigma_j)\\right]\\\\\n",
    "& \\propto \\color{green}{\\pi^{\\sum_{i=1}^Nz_1}(1-\\pi)^{\\sum_{i=1}^Nz_2}} \\prod_{i=1}^N\\prod_{j=1}^K\\phi_{\\theta_j}(x_i)^{z_j}\\prod_{j=1}^K\\exp\\left[-\\frac{\\mu_j^2}{2}\\right]\\left(\\sigma^2_j\\right)^{-2}\\exp\\left[-\\frac{1}{\\sigma^2_j}\\right]\\\\\n",
    "\\end{align*}\n",
    "$$\n",
    "\n",
    "Now because we are working with bivariate normals instead of univariate normals, we have:\n",
    "$$\n",
    "\\begin{align*}\n",
    "\\phi_j(x) & = \\frac{1}{\\sqrt{(2\\pi)^k \\left| \\Sigma_j\\right|}}\\exp^{-\\frac{1}{2}(\\pmb{x} - \\pmb{\\mu_j})^T\\Sigma^{-1}(\\pmb{x} - \\pmb{\\mu_j})}\n",
    "\\end{align*}\n",
    "$$\n"
   ]
  },
  {
   "cell_type": "code",
   "execution_count": null,
   "metadata": {},
   "outputs": [],
   "source": []
  }
 ],
 "metadata": {
  "interpreter": {
   "hash": "31f2aee4e71d21fbe5cf8b01ff0e069b9275f58929596ceb00d14d90e3e16cd6"
  },
  "kernelspec": {
   "display_name": "Python 3.8.10 64-bit",
   "name": "python3"
  },
  "language_info": {
   "codemirror_mode": {
    "name": "ipython",
    "version": 3
   },
   "file_extension": ".py",
   "mimetype": "text/x-python",
   "name": "python",
   "nbconvert_exporter": "python",
   "pygments_lexer": "ipython3",
   "version": "3.8.10"
  },
  "orig_nbformat": 2
 },
 "nbformat": 4,
 "nbformat_minor": 2
}